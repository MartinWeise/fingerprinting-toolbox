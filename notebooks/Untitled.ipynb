{
 "cells": [
  {
   "cell_type": "markdown",
   "metadata": {},
   "source": [
    "# Utility analysis via effects on classification task\n",
    "## Breast Cancer"
   ]
  },
  {
   "cell_type": "code",
   "execution_count": 44,
   "metadata": {},
   "outputs": [],
   "source": [
    "import pandas as pd\n",
    "\n",
    "from sklearn.linear_model import LogisticRegression\n",
    "from sklearn.tree import DecisionTreeClassifier\n",
    "from sklearn.neighbors import KNeighborsClassifier\n",
    "from sklearn.ensemble import GradientBoostingClassifier"
   ]
  },
  {
   "cell_type": "code",
   "execution_count": 20,
   "metadata": {},
   "outputs": [],
   "source": [
    "# import data\n",
    "# perform analysis on original data"
   ]
  },
  {
   "cell_type": "code",
   "execution_count": 40,
   "metadata": {},
   "outputs": [],
   "source": [
    "data = pd.read_csv(\"../datasets/breast_cancer_full.csv\")"
   ]
  },
  {
   "cell_type": "code",
   "execution_count": 41,
   "metadata": {},
   "outputs": [],
   "source": [
    "target = data['recurrence']\n",
    "data = data.drop(['recurrence', 'Id'], axis=1)"
   ]
  },
  {
   "cell_type": "code",
   "execution_count": 43,
   "metadata": {},
   "outputs": [
    {
     "data": {
      "text/plain": [
       "0      no-recurrence-events\n",
       "1      no-recurrence-events\n",
       "2      no-recurrence-events\n",
       "3      no-recurrence-events\n",
       "4      no-recurrence-events\n",
       "5      no-recurrence-events\n",
       "6      no-recurrence-events\n",
       "7      no-recurrence-events\n",
       "8      no-recurrence-events\n",
       "9      no-recurrence-events\n",
       "10     no-recurrence-events\n",
       "11     no-recurrence-events\n",
       "12     no-recurrence-events\n",
       "13     no-recurrence-events\n",
       "14     no-recurrence-events\n",
       "15     no-recurrence-events\n",
       "16     no-recurrence-events\n",
       "17     no-recurrence-events\n",
       "18     no-recurrence-events\n",
       "19     no-recurrence-events\n",
       "20     no-recurrence-events\n",
       "21     no-recurrence-events\n",
       "22     no-recurrence-events\n",
       "23     no-recurrence-events\n",
       "24     no-recurrence-events\n",
       "25     no-recurrence-events\n",
       "26     no-recurrence-events\n",
       "27     no-recurrence-events\n",
       "28     no-recurrence-events\n",
       "29     no-recurrence-events\n",
       "               ...         \n",
       "256       recurrence-events\n",
       "257       recurrence-events\n",
       "258       recurrence-events\n",
       "259       recurrence-events\n",
       "260       recurrence-events\n",
       "261       recurrence-events\n",
       "262       recurrence-events\n",
       "263       recurrence-events\n",
       "264       recurrence-events\n",
       "265       recurrence-events\n",
       "266       recurrence-events\n",
       "267       recurrence-events\n",
       "268       recurrence-events\n",
       "269       recurrence-events\n",
       "270       recurrence-events\n",
       "271       recurrence-events\n",
       "272       recurrence-events\n",
       "273       recurrence-events\n",
       "274       recurrence-events\n",
       "275       recurrence-events\n",
       "276       recurrence-events\n",
       "277       recurrence-events\n",
       "278       recurrence-events\n",
       "279       recurrence-events\n",
       "280       recurrence-events\n",
       "281       recurrence-events\n",
       "282       recurrence-events\n",
       "283       recurrence-events\n",
       "284       recurrence-events\n",
       "285       recurrence-events\n",
       "Name: recurrence, Length: 286, dtype: object"
      ]
     },
     "execution_count": 43,
     "metadata": {},
     "output_type": "execute_result"
    }
   ],
   "source": [
    "target"
   ]
  }
 ],
 "metadata": {
  "kernelspec": {
   "display_name": "Python 3",
   "language": "python",
   "name": "python3"
  },
  "language_info": {
   "codemirror_mode": {
    "name": "ipython",
    "version": 3
   },
   "file_extension": ".py",
   "mimetype": "text/x-python",
   "name": "python",
   "nbconvert_exporter": "python",
   "pygments_lexer": "ipython3",
   "version": "3.7.0"
  }
 },
 "nbformat": 4,
 "nbformat_minor": 2
}
