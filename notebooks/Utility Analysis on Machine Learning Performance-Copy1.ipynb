{
 "cells": [
  {
   "cell_type": "markdown",
   "metadata": {},
   "source": [
    "# Utility Analysis on Machine Learning Performance (Breast Cancer)"
   ]
  },
  {
   "cell_type": "markdown",
   "metadata": {},
   "source": [
    "This notebook presents the utility analysis of the proposed fingerprinting method as a difference in the performance of an ML algorithm trained on original dataset and its fingerprinted copy. \n",
    "Since the fingerprinting methods necessarily change the values inside of the dataset, it is our aim as the designers of the method to keep the quality of the data as close to the original as possible. \n",
    "\n",
    "In our experiments we will train the ML models on the original data and test the performance of the final model on the holdout test set - we want to mock the real scenario when the recipient of the data will have only the fingerprinted data to train their model and to use that model to predict the new, never seen set. Then we will train the model with same hyperparameters using the fingerprinted dataset. \n",
    "\n",
    "We will test the utility of our fingeprinted models using different types  of classifiers, namely:\n",
    "* Decision Tree\n",
    "* Logistic Regression\n",
    "* Gradient Boosting\n",
    "* Random Forest\n",
    "\n",
    "Our experiments will have the following workflow:\n",
    "* choose a random holdout test set (20%)\n",
    "* train the classifier on the remaining & cross validate \n",
    "* record the performance on the test set\n",
    "* fingerprint the remaining \n",
    "* train the classifier on the fingerprinted & cross validate\n",
    "* record the performance on the (non-fingerprinted) test set\n",
    "\n",
    "This is to be repeated a number of times (eg. 1000)"
   ]
  },
  {
   "cell_type": "code",
   "execution_count": 1,
   "metadata": {},
   "outputs": [],
   "source": [
    "# need this for correct imports\n",
    "import sys, os\n",
    "if 'C:/Users/tsarcevic/PycharmProjects/fingerprinting-toolbox/' not in sys.path:\n",
    "    sys.path.append('C:/Users/tsarcevic/PycharmProjects/fingerprinting-toolbox/')\n",
    "os.chdir('../')"
   ]
  },
  {
   "cell_type": "markdown",
   "metadata": {},
   "source": [
    "## Decision Tree on Breast Cancer data (286 entries)\n",
    "\n",
    "We first present one run of our experiments."
   ]
  },
  {
   "cell_type": "code",
   "execution_count": 2,
   "metadata": {},
   "outputs": [],
   "source": [
    "import pandas as pd\n",
    "import numpy as np\n",
    "from sklearn.tree import DecisionTreeClassifier\n",
    "from sklearn.model_selection import RandomizedSearchCV, train_test_split\n",
    "from sklearn.preprocessing import OneHotEncoder, LabelEncoder\n",
    "from schemes.categorical_neighbourhood.categorical_neighbourhood import CategoricalNeighbourhood\n",
    "\n",
    "from utils import *"
   ]
  },
  {
   "cell_type": "code",
   "execution_count": 3,
   "metadata": {},
   "outputs": [
    {
     "name": "stdout",
     "output_type": "stream",
     "text": [
      "Dataset: datasets/breast_cancer_full.csv\n"
     ]
    }
   ],
   "source": [
    "# 0) import data\n",
    "breast_cancer, primary_key = import_dataset(\"breast_cancer_full\")\n",
    "breast_cancer = breast_cancer.drop('Id', axis=1)"
   ]
  },
  {
   "cell_type": "code",
   "execution_count": 4,
   "metadata": {},
   "outputs": [
    {
     "name": "stdout",
     "output_type": "stream",
     "text": [
      "The best accuracy achieved is: 0.7482517482517482 with hyperparameters: {'max_depth': 2, 'criterion': 'gini'}\n"
     ]
    }
   ],
   "source": [
    "# 1) calculate benchmark hyperparameters that will be used in all experiments with Decision Tree\n",
    "\n",
    "# 1.1) get dummies from the categorical data\n",
    "c = len(breast_cancer.columns)\n",
    "target = breast_cancer.values[:, (c-1)]\n",
    "breast_cancer = breast_cancer.drop(\"recurrence\", axis=1)\n",
    "breast_cancer = pd.get_dummies(breast_cancer)\n",
    "data = breast_cancer.values\n",
    "\n",
    "# 1.2) define the model and possible hyperparameters\n",
    "random_state = 25 # increase every run\n",
    "model = DecisionTreeClassifier(random_state=random_state)\n",
    "criterion_range = [\"gini\", \"entropy\"]\n",
    "max_depth_range = range(1, 30)\n",
    "\n",
    "# 1.3) perform the random hyperparameter search\n",
    "param_dist = dict(criterion=criterion_range, max_depth=max_depth_range)\n",
    "rand_search = RandomizedSearchCV(model, param_dist, cv=10, n_iter=58, scoring=\"accuracy\", random_state=random_state)\n",
    "rand_search.fit(data, target)\n",
    "best_params = rand_search.best_params_\n",
    "print(\"The best accuracy achieved is: \" + str(rand_search.best_score_) + \" with hyperparameters: \" + str(best_params))"
   ]
  },
  {
   "cell_type": "code",
   "execution_count": 5,
   "metadata": {},
   "outputs": [],
   "source": [
    "# 2) stratify data into main data and test holdout\n",
    "X_data, X_holdout, y_data, y_holdout = train_test_split(data, target, test_size=0.2, stratify=target, random_state=random_state)"
   ]
  },
  {
   "cell_type": "code",
   "execution_count": 6,
   "metadata": {},
   "outputs": [
    {
     "data": {
      "text/plain": [
       "DecisionTreeClassifier(class_weight=None, criterion='gini', max_depth=2,\n",
       "            max_features=None, max_leaf_nodes=None,\n",
       "            min_impurity_decrease=0.0, min_impurity_split=None,\n",
       "            min_samples_leaf=1, min_samples_split=2,\n",
       "            min_weight_fraction_leaf=0.0, presort=False, random_state=25,\n",
       "            splitter='best')"
      ]
     },
     "execution_count": 6,
     "metadata": {},
     "output_type": "execute_result"
    }
   ],
   "source": [
    "# 3) train a model on original data\n",
    "model = DecisionTreeClassifier(max_depth=best_params['max_depth'], criterion=best_params['criterion'], random_state=random_state)\n",
    "model.fit(X_data, y_data)"
   ]
  },
  {
   "cell_type": "code",
   "execution_count": 7,
   "metadata": {},
   "outputs": [
    {
     "data": {
      "text/plain": [
       "0.6551724137931034"
      ]
     },
     "execution_count": 7,
     "metadata": {},
     "output_type": "execute_result"
    }
   ],
   "source": [
    "# 4) evaluate the original on holdout\n",
    "model.score(X_holdout, y_holdout)"
   ]
  },
  {
   "cell_type": "code",
   "execution_count": 8,
   "metadata": {},
   "outputs": [
    {
     "name": "stdout",
     "output_type": "stream",
     "text": [
      "Start the insertion algorithm of a scheme for fingerprinting categorical data (neighbourhood) ...\n",
      "\tgamma: 1\n",
      "\txi: 2\n",
      "Dataset: datasets/breast_cancer.csv\n",
      "\n",
      "Generated fingerprint for buyer 1: 00011010\n",
      "Inserting the fingerprint...\n",
      "\n",
      "Training balltrees in: 0.04 sec.\n",
      "Fingerprint inserted.\n",
      "Time: 0 sec.\n",
      "<class 'pandas.core.frame.DataFrame'>\n"
     ]
    },
    {
     "name": "stderr",
     "output_type": "stream",
     "text": [
      "c:\\users\\tsarcevic\\appdata\\local\\programs\\python\\python37-32\\lib\\site-packages\\sklearn\\preprocessing\\label.py:151: DeprecationWarning: The truth value of an empty array is ambiguous. Returning False, but in future this will result in an error. Use `array.size > 0` to check that an array is not empty.\n",
      "  if diff:\n",
      "c:\\users\\tsarcevic\\appdata\\local\\programs\\python\\python37-32\\lib\\site-packages\\sklearn\\preprocessing\\label.py:151: DeprecationWarning: The truth value of an empty array is ambiguous. Returning False, but in future this will result in an error. Use `array.size > 0` to check that an array is not empty.\n",
      "  if diff:\n",
      "c:\\users\\tsarcevic\\appdata\\local\\programs\\python\\python37-32\\lib\\site-packages\\sklearn\\preprocessing\\label.py:151: DeprecationWarning: The truth value of an empty array is ambiguous. Returning False, but in future this will result in an error. Use `array.size > 0` to check that an array is not empty.\n",
      "  if diff:\n",
      "c:\\users\\tsarcevic\\appdata\\local\\programs\\python\\python37-32\\lib\\site-packages\\sklearn\\preprocessing\\label.py:151: DeprecationWarning: The truth value of an empty array is ambiguous. Returning False, but in future this will result in an error. Use `array.size > 0` to check that an array is not empty.\n",
      "  if diff:\n",
      "c:\\users\\tsarcevic\\appdata\\local\\programs\\python\\python37-32\\lib\\site-packages\\sklearn\\preprocessing\\label.py:151: DeprecationWarning: The truth value of an empty array is ambiguous. Returning False, but in future this will result in an error. Use `array.size > 0` to check that an array is not empty.\n",
      "  if diff:\n",
      "c:\\users\\tsarcevic\\appdata\\local\\programs\\python\\python37-32\\lib\\site-packages\\sklearn\\preprocessing\\label.py:151: DeprecationWarning: The truth value of an empty array is ambiguous. Returning False, but in future this will result in an error. Use `array.size > 0` to check that an array is not empty.\n",
      "  if diff:\n",
      "c:\\users\\tsarcevic\\appdata\\local\\programs\\python\\python37-32\\lib\\site-packages\\sklearn\\preprocessing\\label.py:151: DeprecationWarning: The truth value of an empty array is ambiguous. Returning False, but in future this will result in an error. Use `array.size > 0` to check that an array is not empty.\n",
      "  if diff:\n",
      "c:\\users\\tsarcevic\\appdata\\local\\programs\\python\\python37-32\\lib\\site-packages\\sklearn\\preprocessing\\label.py:151: DeprecationWarning: The truth value of an empty array is ambiguous. Returning False, but in future this will result in an error. Use `array.size > 0` to check that an array is not empty.\n",
      "  if diff:\n"
     ]
    }
   ],
   "source": [
    "# 5) fingerprint the data\n",
    "# 5.1) define a scheme \n",
    "scheme = CategoricalNeighbourhood(gamma=1, xi=2, fingerprint_bit_length=8)\n",
    "# 5.2) fingerprint the data\n",
    "secret_key = 2322  # increase every run\n",
    "fp_dataset = scheme.insertion(dataset_name=\"breast_cancer\", buyer_id=1, secret_key=secret_key)\n",
    "fp_dataset = fp_dataset.drop(\"Id\", axis=1)\n",
    "print(type(fp_dataset))"
   ]
  },
  {
   "cell_type": "code",
   "execution_count": 9,
   "metadata": {},
   "outputs": [
    {
     "data": {
      "text/plain": [
       "DecisionTreeClassifier(class_weight=None, criterion='gini', max_depth=2,\n",
       "            max_features=None, max_leaf_nodes=None,\n",
       "            min_impurity_decrease=0.0, min_impurity_split=None,\n",
       "            min_samples_leaf=1, min_samples_split=2,\n",
       "            min_weight_fraction_leaf=0.0, presort=False, random_state=25,\n",
       "            splitter='best')"
      ]
     },
     "execution_count": 9,
     "metadata": {},
     "output_type": "execute_result"
    }
   ],
   "source": [
    "# 6) train the model with fingerprinted data\n",
    "\n",
    "# 6.1) preprocess the fingerprinted data (get dummies)\n",
    "fp_dataset = pd.get_dummies(fp_dataset)\n",
    "data_fp = fp_dataset.values\n",
    "\n",
    "# 6.2) filter-out the holdout\n",
    "X_data_fp, X_holdout_fp, y_data_fp, y_holdout_fp = train_test_split(data_fp, target, test_size=0.2, stratify=target, random_state=random_state)\n",
    "\n",
    "# 6.3) train the model\n",
    "model2 = DecisionTreeClassifier(max_depth=best_params['max_depth'], criterion=best_params['criterion'], random_state=random_state)\n",
    "model2.fit(X_data_fp, y_data)"
   ]
  },
  {
   "cell_type": "code",
   "execution_count": 10,
   "metadata": {},
   "outputs": [
    {
     "data": {
      "text/plain": [
       "0.6896551724137931"
      ]
     },
     "execution_count": 10,
     "metadata": {},
     "output_type": "execute_result"
    }
   ],
   "source": [
    "# 7) evaluate on the holdout\n",
    "model2.score(X_holdout, y_holdout)"
   ]
  }
 ],
 "metadata": {
  "kernelspec": {
   "display_name": "Python 3",
   "language": "python",
   "name": "python3"
  },
  "language_info": {
   "codemirror_mode": {
    "name": "ipython",
    "version": 3
   },
   "file_extension": ".py",
   "mimetype": "text/x-python",
   "name": "python",
   "nbconvert_exporter": "python",
   "pygments_lexer": "ipython3",
   "version": "3.7.0"
  }
 },
 "nbformat": 4,
 "nbformat_minor": 2
}
